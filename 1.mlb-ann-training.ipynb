{
 "cells": [
  {
   "cell_type": "code",
   "execution_count": 1,
   "id": "renewable-following",
   "metadata": {
    "_cell_guid": "b1076dfc-b9ad-4769-8c92-a6c4dae69d19",
    "_uuid": "8f2839f25d086af736a60e9eeb907d3b93b6e0e5",
    "execution": {
     "iopub.execute_input": "2021-07-21T18:49:17.890880Z",
     "iopub.status.busy": "2021-07-21T18:49:17.889076Z",
     "iopub.status.idle": "2021-07-21T18:49:18.923443Z",
     "shell.execute_reply": "2021-07-21T18:49:18.924058Z",
     "shell.execute_reply.started": "2021-06-16T15:46:24.945463Z"
    },
    "papermill": {
     "duration": 1.063333,
     "end_time": "2021-07-21T18:49:18.924371",
     "exception": false,
     "start_time": "2021-07-21T18:49:17.861038",
     "status": "completed"
    },
    "tags": []
   },
   "outputs": [],
   "source": [
    "import pandas as pd\n",
    "import numpy as np\n",
    "from datetime import timedelta\n",
    "from tqdm import tqdm\n",
    "import gc\n",
    "from functools import reduce\n",
    "from sklearn.model_selection import StratifiedKFold"
   ]
  },
  {
   "cell_type": "code",
   "execution_count": 2,
   "id": "seven-korean",
   "metadata": {
    "execution": {
     "iopub.execute_input": "2021-07-21T18:49:18.973431Z",
     "iopub.status.busy": "2021-07-21T18:49:18.972403Z",
     "iopub.status.idle": "2021-07-21T18:49:18.981750Z",
     "shell.execute_reply": "2021-07-21T18:49:18.981217Z",
     "shell.execute_reply.started": "2021-06-16T15:44:56.961753Z"
    },
    "papermill": {
     "duration": 0.034627,
     "end_time": "2021-07-21T18:49:18.981937",
     "exception": false,
     "start_time": "2021-07-21T18:49:18.947310",
     "status": "completed"
    },
    "tags": []
   },
   "outputs": [],
   "source": [
    "def make_df(df, col, bool_in=False):\n",
    "    tp = df.loc[ ~df[col].isnull() ,[col]].copy()\n",
    "    df.drop(col, axis=1, inplace=True)\n",
    "    \n",
    "    tp[col] = tp[col].str.replace(\"null\",'\"\"')\n",
    "    if bool_in:\n",
    "        tp[col] = tp[col].str.replace(\"false\",'\"False\"')\n",
    "        tp[col] = tp[col].str.replace(\"true\",'\"True\"')\n",
    "    tp[col] = tp[col].apply(lambda x: eval(x) )\n",
    "    a = tp[col].sum()\n",
    "    gc.collect()\n",
    "    return pd.DataFrame(a)\n",
    "#==============="
   ]
  },
  {
   "cell_type": "code",
   "execution_count": 3,
   "id": "million-baker",
   "metadata": {
    "execution": {
     "iopub.execute_input": "2021-07-21T18:49:19.032046Z",
     "iopub.status.busy": "2021-07-21T18:49:19.031362Z",
     "iopub.status.idle": "2021-07-21T18:49:19.034570Z",
     "shell.execute_reply": "2021-07-21T18:49:19.034033Z",
     "shell.execute_reply.started": "2021-06-16T15:44:57.199387Z"
    },
    "papermill": {
     "duration": 0.030131,
     "end_time": "2021-07-21T18:49:19.034704",
     "exception": false,
     "start_time": "2021-07-21T18:49:19.004573",
     "status": "completed"
    },
    "tags": []
   },
   "outputs": [],
   "source": [
    "ROOT_DIR = \"../input/mlb-player-digital-engagement-forecasting\""
   ]
  },
  {
   "cell_type": "code",
   "execution_count": 4,
   "id": "united-plaza",
   "metadata": {
    "execution": {
     "iopub.execute_input": "2021-07-21T18:49:19.086071Z",
     "iopub.status.busy": "2021-07-21T18:49:19.085203Z",
     "iopub.status.idle": "2021-07-21T18:49:24.834564Z",
     "shell.execute_reply": "2021-07-21T18:49:24.833940Z"
    },
    "papermill": {
     "duration": 5.777084,
     "end_time": "2021-07-21T18:49:24.834715",
     "exception": false,
     "start_time": "2021-07-21T18:49:19.057631",
     "status": "completed"
    },
    "tags": []
   },
   "outputs": [],
   "source": [
    "my_seed = 2021\n",
    "np.random.seed(my_seed)\n",
    "import random \n",
    "random.seed(my_seed)\n",
    "import tensorflow as tf\n",
    "tf.random.set_seed(my_seed)"
   ]
  },
  {
   "cell_type": "markdown",
   "id": "focused-count",
   "metadata": {
    "papermill": {
     "duration": 0.022035,
     "end_time": "2021-07-21T18:49:24.879646",
     "exception": false,
     "start_time": "2021-07-21T18:49:24.857611",
     "status": "completed"
    },
    "tags": []
   },
   "source": [
    "## UTILITY FUNCTIONS"
   ]
  },
  {
   "cell_type": "code",
   "execution_count": 5,
   "id": "virtual-haiti",
   "metadata": {
    "execution": {
     "iopub.execute_input": "2021-07-21T18:49:24.931460Z",
     "iopub.status.busy": "2021-07-21T18:49:24.930752Z",
     "iopub.status.idle": "2021-07-21T18:49:24.933743Z",
     "shell.execute_reply": "2021-07-21T18:49:24.934222Z",
     "shell.execute_reply.started": "2021-06-16T15:44:57.778811Z"
    },
    "papermill": {
     "duration": 0.032332,
     "end_time": "2021-07-21T18:49:24.934416",
     "exception": false,
     "start_time": "2021-07-21T18:49:24.902084",
     "status": "completed"
    },
    "tags": []
   },
   "outputs": [],
   "source": [
    "#=======================#\n",
    "def flatten(df, col):\n",
    "    du = (df.pivot(index=\"playerId\", columns=\"EvalDate\", \n",
    "               values=col).add_prefix(f\"{col}_\").\n",
    "      rename_axis(None, axis=1).reset_index())\n",
    "    return du\n",
    "#============================#\n",
    "def reducer(left, right):\n",
    "    return left.merge(right, on=\"playerId\")\n",
    "#========================"
   ]
  },
  {
   "cell_type": "code",
   "execution_count": 6,
   "id": "coordinate-measure",
   "metadata": {
    "execution": {
     "iopub.execute_input": "2021-07-21T18:49:24.992645Z",
     "iopub.status.busy": "2021-07-21T18:49:24.991950Z",
     "iopub.status.idle": "2021-07-21T18:49:24.995435Z",
     "shell.execute_reply": "2021-07-21T18:49:24.994803Z",
     "shell.execute_reply.started": "2021-06-16T15:44:58.119793Z"
    },
    "papermill": {
     "duration": 0.038336,
     "end_time": "2021-07-21T18:49:24.995573",
     "exception": false,
     "start_time": "2021-07-21T18:49:24.957237",
     "status": "completed"
    },
    "tags": []
   },
   "outputs": [],
   "source": [
    "TGTCOLS = [\"target1\",\"target2\",\"target3\",\"target4\"]\n",
    "def train_lag(df, lag=1):\n",
    "    dp = df[[\"playerId\",\"EvalDate\"]+TGTCOLS].copy()\n",
    "    dp[\"EvalDate\"]  =dp[\"EvalDate\"] + timedelta(days=lag) \n",
    "    df = df.merge(dp, on=[\"playerId\", \"EvalDate\"], suffixes=[\"\",f\"_{lag}\"], how=\"left\")\n",
    "    return df\n",
    "#=================================\n",
    "def test_lag(sub):\n",
    "    sub[\"playerId\"] = sub[\"date_playerId\"].apply(lambda s: int(  s.split(\"_\")[1]  ) )\n",
    "    assert sub.date.nunique() == 1\n",
    "    dte = sub[\"date\"].unique()[0]\n",
    "    \n",
    "    eval_dt = pd.to_datetime(dte, format=\"%Y%m%d\")\n",
    "    dtes = [eval_dt + timedelta(days=-k) for k in LAGS]\n",
    "    mp_dtes = {eval_dt + timedelta(days=-k):k for k in LAGS}\n",
    "    \n",
    "    sl = LAST.loc[LAST.EvalDate.between(dtes[-1], dtes[0]), [\"EvalDate\",\"playerId\"]+TGTCOLS].copy()\n",
    "    sl[\"EvalDate\"] = sl[\"EvalDate\"].map(mp_dtes)\n",
    "    du = [flatten(sl, col) for col in TGTCOLS]\n",
    "    du = reduce(reducer, du)\n",
    "    return du, eval_dt\n",
    "    #\n",
    "#==============="
   ]
  },
  {
   "cell_type": "code",
   "execution_count": 7,
   "id": "funded-sentence",
   "metadata": {
    "execution": {
     "iopub.execute_input": "2021-07-21T18:49:25.047302Z",
     "iopub.status.busy": "2021-07-21T18:49:25.046594Z",
     "iopub.status.idle": "2021-07-21T18:49:29.791113Z",
     "shell.execute_reply": "2021-07-21T18:49:29.791622Z",
     "shell.execute_reply.started": "2021-06-16T15:44:58.916836Z"
    },
    "papermill": {
     "duration": 4.773686,
     "end_time": "2021-07-21T18:49:29.791803",
     "exception": false,
     "start_time": "2021-07-21T18:49:25.018117",
     "status": "completed"
    },
    "tags": []
   },
   "outputs": [
    {
     "name": "stdout",
     "output_type": "stream",
     "text": [
      "(2506176, 6)\n",
      "CPU times: user 2.56 s, sys: 270 ms, total: 2.83 s\n",
      "Wall time: 4.74 s\n"
     ]
    },
    {
     "data": {
      "text/plain": [
       "22"
      ]
     },
     "execution_count": 7,
     "metadata": {},
     "output_type": "execute_result"
    }
   ],
   "source": [
    "%%time\n",
    "#tr = pd.read_csv(f\"{ROOT_DIR}/train.csv\")\n",
    "tr = pd.read_csv(\"../input/my-mlb-data/target.csv\")\n",
    "print(tr.shape)\n",
    "gc.collect()"
   ]
  },
  {
   "cell_type": "code",
   "execution_count": 8,
   "id": "effective-singing",
   "metadata": {
    "execution": {
     "iopub.execute_input": "2021-07-21T18:49:29.999291Z",
     "iopub.status.busy": "2021-07-21T18:49:29.998493Z",
     "iopub.status.idle": "2021-07-21T18:49:30.593751Z",
     "shell.execute_reply": "2021-07-21T18:49:30.593175Z",
     "shell.execute_reply.started": "2021-06-16T15:45:03.107669Z"
    },
    "papermill": {
     "duration": 0.778429,
     "end_time": "2021-07-21T18:49:30.593932",
     "exception": false,
     "start_time": "2021-07-21T18:49:29.815503",
     "status": "completed"
    },
    "tags": []
   },
   "outputs": [],
   "source": [
    "tr[\"EvalDate\"] = pd.to_datetime(tr[\"EvalDate\"])\n",
    "tr[\"EvalDate\"] = tr[\"EvalDate\"] + timedelta(days=-1)\n",
    "tr[\"EvalYear\"] = tr[\"EvalDate\"].dt.year"
   ]
  },
  {
   "cell_type": "code",
   "execution_count": 9,
   "id": "composed-breach",
   "metadata": {
    "execution": {
     "iopub.execute_input": "2021-07-21T18:49:30.648555Z",
     "iopub.status.busy": "2021-07-21T18:49:30.647825Z",
     "iopub.status.idle": "2021-07-21T18:49:31.175262Z",
     "shell.execute_reply": "2021-07-21T18:49:31.174557Z",
     "shell.execute_reply.started": "2021-06-16T15:45:03.782037Z"
    },
    "papermill": {
     "duration": 0.558286,
     "end_time": "2021-07-21T18:49:31.175408",
     "exception": false,
     "start_time": "2021-07-21T18:49:30.617122",
     "status": "completed"
    },
    "tags": []
   },
   "outputs": [],
   "source": [
    "MED_DF = tr.groupby([\"playerId\",\"EvalYear\"])[TGTCOLS].median().reset_index()\n",
    "MEDCOLS = [\"tgt1_med\",\"tgt2_med\", \"tgt3_med\", \"tgt4_med\"]\n",
    "MED_DF.columns = [\"playerId\",\"EvalYear\"] + MEDCOLS"
   ]
  },
  {
   "cell_type": "code",
   "execution_count": 10,
   "id": "wicked-printing",
   "metadata": {
    "execution": {
     "iopub.execute_input": "2021-07-21T18:49:31.227722Z",
     "iopub.status.busy": "2021-07-21T18:49:31.227046Z",
     "iopub.status.idle": "2021-07-21T18:49:31.244126Z",
     "shell.execute_reply": "2021-07-21T18:49:31.243479Z",
     "shell.execute_reply.started": "2021-06-16T15:45:04.235933Z"
    },
    "papermill": {
     "duration": 0.045197,
     "end_time": "2021-07-21T18:49:31.244282",
     "exception": false,
     "start_time": "2021-07-21T18:49:31.199085",
     "status": "completed"
    },
    "tags": []
   },
   "outputs": [
    {
     "data": {
      "text/html": [
       "<div>\n",
       "<style scoped>\n",
       "    .dataframe tbody tr th:only-of-type {\n",
       "        vertical-align: middle;\n",
       "    }\n",
       "\n",
       "    .dataframe tbody tr th {\n",
       "        vertical-align: top;\n",
       "    }\n",
       "\n",
       "    .dataframe thead th {\n",
       "        text-align: right;\n",
       "    }\n",
       "</style>\n",
       "<table border=\"1\" class=\"dataframe\">\n",
       "  <thead>\n",
       "    <tr style=\"text-align: right;\">\n",
       "      <th></th>\n",
       "      <th>playerId</th>\n",
       "      <th>EvalYear</th>\n",
       "      <th>tgt1_med</th>\n",
       "      <th>tgt2_med</th>\n",
       "      <th>tgt3_med</th>\n",
       "      <th>tgt4_med</th>\n",
       "    </tr>\n",
       "  </thead>\n",
       "  <tbody>\n",
       "    <tr>\n",
       "      <th>0</th>\n",
       "      <td>112526</td>\n",
       "      <td>2018</td>\n",
       "      <td>0.151508</td>\n",
       "      <td>4.901809</td>\n",
       "      <td>0.528752</td>\n",
       "      <td>13.437293</td>\n",
       "    </tr>\n",
       "    <tr>\n",
       "      <th>1</th>\n",
       "      <td>112526</td>\n",
       "      <td>2019</td>\n",
       "      <td>0.033293</td>\n",
       "      <td>1.117953</td>\n",
       "      <td>0.129707</td>\n",
       "      <td>10.568848</td>\n",
       "    </tr>\n",
       "    <tr>\n",
       "      <th>2</th>\n",
       "      <td>112526</td>\n",
       "      <td>2020</td>\n",
       "      <td>0.021525</td>\n",
       "      <td>1.468556</td>\n",
       "      <td>0.041698</td>\n",
       "      <td>8.448668</td>\n",
       "    </tr>\n",
       "    <tr>\n",
       "      <th>3</th>\n",
       "      <td>112526</td>\n",
       "      <td>2021</td>\n",
       "      <td>0.007505</td>\n",
       "      <td>0.477795</td>\n",
       "      <td>0.043267</td>\n",
       "      <td>9.549732</td>\n",
       "    </tr>\n",
       "    <tr>\n",
       "      <th>4</th>\n",
       "      <td>134181</td>\n",
       "      <td>2018</td>\n",
       "      <td>0.706118</td>\n",
       "      <td>5.399749</td>\n",
       "      <td>0.733436</td>\n",
       "      <td>6.923528</td>\n",
       "    </tr>\n",
       "  </tbody>\n",
       "</table>\n",
       "</div>"
      ],
      "text/plain": [
       "   playerId  EvalYear  tgt1_med  tgt2_med  tgt3_med   tgt4_med\n",
       "0    112526      2018  0.151508  4.901809  0.528752  13.437293\n",
       "1    112526      2019  0.033293  1.117953  0.129707  10.568848\n",
       "2    112526      2020  0.021525  1.468556  0.041698   8.448668\n",
       "3    112526      2021  0.007505  0.477795  0.043267   9.549732\n",
       "4    134181      2018  0.706118  5.399749  0.733436   6.923528"
      ]
     },
     "execution_count": 10,
     "metadata": {},
     "output_type": "execute_result"
    }
   ],
   "source": [
    "MED_DF.head()"
   ]
  },
  {
   "cell_type": "code",
   "execution_count": 11,
   "id": "mighty-johns",
   "metadata": {
    "execution": {
     "iopub.execute_input": "2021-07-21T18:49:31.297141Z",
     "iopub.status.busy": "2021-07-21T18:49:31.296453Z",
     "iopub.status.idle": "2021-07-21T18:49:31.299939Z",
     "shell.execute_reply": "2021-07-21T18:49:31.300399Z",
     "shell.execute_reply.started": "2021-06-16T15:45:04.253271Z"
    },
    "papermill": {
     "duration": 0.03235,
     "end_time": "2021-07-21T18:49:31.300588",
     "exception": false,
     "start_time": "2021-07-21T18:49:31.268238",
     "status": "completed"
    },
    "tags": []
   },
   "outputs": [],
   "source": [
    "LAGS = list(range(1,21))\n",
    "FECOLS = [f\"{col}_{lag}\" for lag in reversed(LAGS) for col in TGTCOLS]"
   ]
  },
  {
   "cell_type": "code",
   "execution_count": 12,
   "id": "another-temperature",
   "metadata": {
    "execution": {
     "iopub.execute_input": "2021-07-21T18:49:31.350665Z",
     "iopub.status.busy": "2021-07-21T18:49:31.350087Z",
     "iopub.status.idle": "2021-07-21T18:49:31.354983Z",
     "shell.execute_reply": "2021-07-21T18:49:31.355493Z",
     "shell.execute_reply.started": "2021-06-16T15:45:04.25773Z"
    },
    "papermill": {
     "duration": 0.031375,
     "end_time": "2021-07-21T18:49:31.355656",
     "exception": false,
     "start_time": "2021-07-21T18:49:31.324281",
     "status": "completed"
    },
    "tags": []
   },
   "outputs": [
    {
     "data": {
      "text/plain": [
       "[1, 2, 3, 4, 5, 6, 7, 8, 9, 10, 11, 12, 13, 14, 15, 16, 17, 18, 19, 20]"
      ]
     },
     "execution_count": 12,
     "metadata": {},
     "output_type": "execute_result"
    }
   ],
   "source": [
    "LAGS"
   ]
  },
  {
   "cell_type": "code",
   "execution_count": 13,
   "id": "standard-intellectual",
   "metadata": {
    "execution": {
     "iopub.execute_input": "2021-07-21T18:49:31.406304Z",
     "iopub.status.busy": "2021-07-21T18:49:31.405648Z",
     "iopub.status.idle": "2021-07-21T18:50:36.265829Z",
     "shell.execute_reply": "2021-07-21T18:50:36.266344Z",
     "shell.execute_reply.started": "2021-06-16T15:45:04.270356Z"
    },
    "papermill": {
     "duration": 64.887071,
     "end_time": "2021-07-21T18:50:36.266515",
     "exception": false,
     "start_time": "2021-07-21T18:49:31.379444",
     "status": "completed"
    },
    "tags": []
   },
   "outputs": [
    {
     "name": "stderr",
     "output_type": "stream",
     "text": [
      "100%|██████████| 20/20 [00:55<00:00,  2.79s/it]\n"
     ]
    },
    {
     "name": "stdout",
     "output_type": "stream",
     "text": [
      "(2506176, 87)\n",
      "(2464956, 87)\n",
      "CPU times: user 45.6 s, sys: 19.3 s, total: 1min 4s\n",
      "Wall time: 1min 4s\n"
     ]
    },
    {
     "data": {
      "text/plain": [
       "39"
      ]
     },
     "execution_count": 13,
     "metadata": {},
     "output_type": "execute_result"
    }
   ],
   "source": [
    "%%time\n",
    "for lag in tqdm(LAGS):\n",
    "    tr = train_lag(tr, lag=lag)\n",
    "    gc.collect()\n",
    "#===========\n",
    "tr = tr.sort_values(by=[\"playerId\", \"EvalDate\"])\n",
    "print(tr.shape)\n",
    "tr = tr.dropna()\n",
    "print(tr.shape)\n",
    "tr = tr.merge(MED_DF, on=[\"playerId\",\"EvalYear\"])\n",
    "gc.collect()"
   ]
  },
  {
   "cell_type": "code",
   "execution_count": 14,
   "id": "incomplete-gardening",
   "metadata": {
    "execution": {
     "iopub.execute_input": "2021-07-21T18:50:36.349115Z",
     "iopub.status.busy": "2021-07-21T18:50:36.348427Z",
     "iopub.status.idle": "2021-07-21T18:50:36.361725Z",
     "shell.execute_reply": "2021-07-21T18:50:36.362310Z",
     "shell.execute_reply.started": "2021-06-16T15:46:01.518461Z"
    },
    "papermill": {
     "duration": 0.063705,
     "end_time": "2021-07-21T18:50:36.362484",
     "exception": false,
     "start_time": "2021-07-21T18:50:36.298779",
     "status": "completed"
    },
    "tags": []
   },
   "outputs": [
    {
     "data": {
      "text/html": [
       "<div>\n",
       "<style scoped>\n",
       "    .dataframe tbody tr th:only-of-type {\n",
       "        vertical-align: middle;\n",
       "    }\n",
       "\n",
       "    .dataframe tbody tr th {\n",
       "        vertical-align: top;\n",
       "    }\n",
       "\n",
       "    .dataframe thead th {\n",
       "        text-align: right;\n",
       "    }\n",
       "</style>\n",
       "<table border=\"1\" class=\"dataframe\">\n",
       "  <thead>\n",
       "    <tr style=\"text-align: right;\">\n",
       "      <th></th>\n",
       "      <th>playerId</th>\n",
       "      <th>target1</th>\n",
       "      <th>target2</th>\n",
       "      <th>target3</th>\n",
       "      <th>target4</th>\n",
       "      <th>EvalDate</th>\n",
       "      <th>EvalYear</th>\n",
       "      <th>target1_1</th>\n",
       "      <th>target2_1</th>\n",
       "      <th>target3_1</th>\n",
       "      <th>...</th>\n",
       "      <th>target3_19</th>\n",
       "      <th>target4_19</th>\n",
       "      <th>target1_20</th>\n",
       "      <th>target2_20</th>\n",
       "      <th>target3_20</th>\n",
       "      <th>target4_20</th>\n",
       "      <th>tgt1_med</th>\n",
       "      <th>tgt2_med</th>\n",
       "      <th>tgt3_med</th>\n",
       "      <th>tgt4_med</th>\n",
       "    </tr>\n",
       "  </thead>\n",
       "  <tbody>\n",
       "    <tr>\n",
       "      <th>0</th>\n",
       "      <td>112526</td>\n",
       "      <td>0.311895</td>\n",
       "      <td>5.163646</td>\n",
       "      <td>0.277666</td>\n",
       "      <td>15.897436</td>\n",
       "      <td>2018-01-21</td>\n",
       "      <td>2018</td>\n",
       "      <td>0.070373</td>\n",
       "      <td>31.732933</td>\n",
       "      <td>0.444872</td>\n",
       "      <td>...</td>\n",
       "      <td>0.030486</td>\n",
       "      <td>8.541353</td>\n",
       "      <td>0.055277</td>\n",
       "      <td>5.496109</td>\n",
       "      <td>0.025839</td>\n",
       "      <td>16.176471</td>\n",
       "      <td>0.151508</td>\n",
       "      <td>4.901809</td>\n",
       "      <td>0.528752</td>\n",
       "      <td>13.437293</td>\n",
       "    </tr>\n",
       "  </tbody>\n",
       "</table>\n",
       "<p>1 rows × 91 columns</p>\n",
       "</div>"
      ],
      "text/plain": [
       "   playerId   target1   target2   target3    target4   EvalDate  EvalYear  \\\n",
       "0    112526  0.311895  5.163646  0.277666  15.897436 2018-01-21      2018   \n",
       "\n",
       "   target1_1  target2_1  target3_1  ...  target3_19  target4_19  target1_20  \\\n",
       "0   0.070373  31.732933   0.444872  ...    0.030486    8.541353    0.055277   \n",
       "\n",
       "   target2_20  target3_20  target4_20  tgt1_med  tgt2_med  tgt3_med   tgt4_med  \n",
       "0    5.496109    0.025839   16.176471  0.151508  4.901809  0.528752  13.437293  \n",
       "\n",
       "[1 rows x 91 columns]"
      ]
     },
     "execution_count": 14,
     "metadata": {},
     "output_type": "execute_result"
    }
   ],
   "source": [
    "tr.head(1)"
   ]
  },
  {
   "cell_type": "code",
   "execution_count": 15,
   "id": "anonymous-ordering",
   "metadata": {
    "execution": {
     "iopub.execute_input": "2021-07-21T18:50:36.436528Z",
     "iopub.status.busy": "2021-07-21T18:50:36.435034Z",
     "iopub.status.idle": "2021-07-21T18:50:38.160809Z",
     "shell.execute_reply": "2021-07-21T18:50:38.160281Z",
     "shell.execute_reply.started": "2021-06-16T15:46:01.548207Z"
    },
    "papermill": {
     "duration": 1.764977,
     "end_time": "2021-07-21T18:50:38.160976",
     "exception": false,
     "start_time": "2021-07-21T18:50:36.395999",
     "status": "completed"
    },
    "tags": []
   },
   "outputs": [],
   "source": [
    "X = tr[FECOLS+MEDCOLS].values\n",
    "y = tr[TGTCOLS].values\n",
    "cl = tr[\"playerId\"].values"
   ]
  },
  {
   "cell_type": "code",
   "execution_count": 16,
   "id": "lined-worker",
   "metadata": {
    "execution": {
     "iopub.execute_input": "2021-07-21T18:50:38.231657Z",
     "iopub.status.busy": "2021-07-21T18:50:38.231003Z",
     "iopub.status.idle": "2021-07-21T18:50:43.015105Z",
     "shell.execute_reply": "2021-07-21T18:50:43.014528Z",
     "shell.execute_reply.started": "2021-06-16T15:46:31.916431Z"
    },
    "papermill": {
     "duration": 4.821716,
     "end_time": "2021-07-21T18:50:43.015270",
     "exception": false,
     "start_time": "2021-07-21T18:50:38.193554",
     "status": "completed"
    },
    "tags": []
   },
   "outputs": [],
   "source": [
    "NFOLDS = 5\n",
    "skf = StratifiedKFold(n_splits=NFOLDS)\n",
    "folds = skf.split(X, cl)\n",
    "folds = list(folds)"
   ]
  },
  {
   "cell_type": "code",
   "execution_count": 17,
   "id": "coastal-recovery",
   "metadata": {
    "execution": {
     "iopub.execute_input": "2021-07-21T18:50:43.085909Z",
     "iopub.status.busy": "2021-07-21T18:50:43.085241Z",
     "iopub.status.idle": "2021-07-21T18:50:43.088799Z",
     "shell.execute_reply": "2021-07-21T18:50:43.088262Z",
     "shell.execute_reply.started": "2021-06-16T15:46:39.013923Z"
    },
    "papermill": {
     "duration": 0.040793,
     "end_time": "2021-07-21T18:50:43.088954",
     "exception": false,
     "start_time": "2021-07-21T18:50:43.048161",
     "status": "completed"
    },
    "tags": []
   },
   "outputs": [
    {
     "data": {
      "text/plain": [
       "(2464956, 84)"
      ]
     },
     "execution_count": 17,
     "metadata": {},
     "output_type": "execute_result"
    }
   ],
   "source": [
    "X.shape"
   ]
  },
  {
   "cell_type": "markdown",
   "id": "smart-geometry",
   "metadata": {
    "papermill": {
     "duration": 0.032536,
     "end_time": "2021-07-21T18:50:43.154500",
     "exception": false,
     "start_time": "2021-07-21T18:50:43.121964",
     "status": "completed"
    },
    "tags": []
   },
   "source": [
    "## Neural Net Training"
   ]
  },
  {
   "cell_type": "code",
   "execution_count": 18,
   "id": "standard-rapid",
   "metadata": {
    "execution": {
     "iopub.execute_input": "2021-07-21T18:50:43.224094Z",
     "iopub.status.busy": "2021-07-21T18:50:43.223400Z",
     "iopub.status.idle": "2021-07-21T18:50:43.228593Z",
     "shell.execute_reply": "2021-07-21T18:50:43.229087Z",
     "shell.execute_reply.started": "2021-06-16T15:46:45.876923Z"
    },
    "papermill": {
     "duration": 0.041456,
     "end_time": "2021-07-21T18:50:43.229275",
     "exception": false,
     "start_time": "2021-07-21T18:50:43.187819",
     "status": "completed"
    },
    "tags": []
   },
   "outputs": [],
   "source": [
    "import tensorflow as tf\n",
    "import tensorflow.keras.layers as L\n",
    "import tensorflow.keras.models as M\n",
    "from sklearn.metrics import mean_absolute_error, mean_squared_error\n",
    "from tensorflow.keras.callbacks import ModelCheckpoint, ReduceLROnPlateau, EarlyStopping"
   ]
  },
  {
   "cell_type": "code",
   "execution_count": 19,
   "id": "standard-courage",
   "metadata": {
    "execution": {
     "iopub.execute_input": "2021-07-21T18:50:43.305706Z",
     "iopub.status.busy": "2021-07-21T18:50:43.304537Z",
     "iopub.status.idle": "2021-07-21T18:50:43.308092Z",
     "shell.execute_reply": "2021-07-21T18:50:43.307413Z",
     "shell.execute_reply.started": "2021-06-16T15:46:51.067714Z"
    },
    "papermill": {
     "duration": 0.043947,
     "end_time": "2021-07-21T18:50:43.308268",
     "exception": false,
     "start_time": "2021-07-21T18:50:43.264321",
     "status": "completed"
    },
    "tags": []
   },
   "outputs": [],
   "source": [
    "def make_model(n_in):\n",
    "    inp = L.Input(name=\"inputs\", shape=(n_in,))\n",
    "    x = L.Dense(50, activation=\"relu\", name=\"d1\")(inp)\n",
    "    x = L.Dense(50, activation=\"relu\", name=\"d2\")(x)\n",
    "    preds = L.Dense(4, activation=\"linear\", name=\"preds\")(x)\n",
    "    \n",
    "    model = M.Model(inp, preds, name=\"ANN\")\n",
    "    model.compile(loss=\"mean_absolute_error\", optimizer=\"adam\")\n",
    "    return model"
   ]
  },
  {
   "cell_type": "code",
   "execution_count": 20,
   "id": "processed-magic",
   "metadata": {
    "execution": {
     "iopub.execute_input": "2021-07-21T18:50:43.380624Z",
     "iopub.status.busy": "2021-07-21T18:50:43.379964Z",
     "iopub.status.idle": "2021-07-21T18:50:43.488447Z",
     "shell.execute_reply": "2021-07-21T18:50:43.487891Z",
     "shell.execute_reply.started": "2021-06-16T15:46:51.075992Z"
    },
    "papermill": {
     "duration": 0.146482,
     "end_time": "2021-07-21T18:50:43.488600",
     "exception": false,
     "start_time": "2021-07-21T18:50:43.342118",
     "status": "completed"
    },
    "tags": []
   },
   "outputs": [
    {
     "name": "stdout",
     "output_type": "stream",
     "text": [
      "Model: \"ANN\"\n",
      "_________________________________________________________________\n",
      "Layer (type)                 Output Shape              Param #   \n",
      "=================================================================\n",
      "inputs (InputLayer)          [(None, 84)]              0         \n",
      "_________________________________________________________________\n",
      "d1 (Dense)                   (None, 50)                4250      \n",
      "_________________________________________________________________\n",
      "d2 (Dense)                   (None, 50)                2550      \n",
      "_________________________________________________________________\n",
      "preds (Dense)                (None, 4)                 204       \n",
      "=================================================================\n",
      "Total params: 7,004\n",
      "Trainable params: 7,004\n",
      "Non-trainable params: 0\n",
      "_________________________________________________________________\n",
      "None\n"
     ]
    }
   ],
   "source": [
    "net = make_model(X.shape[1])\n",
    "print(net.summary())"
   ]
  },
  {
   "cell_type": "code",
   "execution_count": 21,
   "id": "collected-wrapping",
   "metadata": {
    "execution": {
     "iopub.execute_input": "2021-07-21T18:50:43.570787Z",
     "iopub.status.busy": "2021-07-21T18:50:43.570046Z",
     "iopub.status.idle": "2021-07-21T18:53:11.993644Z",
     "shell.execute_reply": "2021-07-21T18:53:11.994191Z",
     "shell.execute_reply.started": "2021-06-16T15:50:18.267606Z"
    },
    "papermill": {
     "duration": 148.471577,
     "end_time": "2021-07-21T18:53:11.994405",
     "exception": false,
     "start_time": "2021-07-21T18:50:43.522828",
     "status": "completed"
    },
    "tags": []
   },
   "outputs": [
    {
     "name": "stdout",
     "output_type": "stream",
     "text": [
      "FOLD: 0\n",
      "Epoch 1/10\n",
      "66/66 [==============================] - 4s 52ms/step - loss: 1.3212 - val_loss: 1.0334\n",
      "\n",
      "Epoch 00001: val_loss improved from inf to 1.03344, saving model to w0.h5\n",
      "Epoch 2/10\n",
      "66/66 [==============================] - 3s 38ms/step - loss: 0.8927 - val_loss: 0.9591\n",
      "\n",
      "Epoch 00002: val_loss improved from 1.03344 to 0.95912, saving model to w0.h5\n",
      "Epoch 3/10\n",
      "66/66 [==============================] - 3s 41ms/step - loss: 0.8361 - val_loss: 0.9237\n",
      "\n",
      "Epoch 00003: val_loss improved from 0.95912 to 0.92367, saving model to w0.h5\n",
      "Epoch 4/10\n",
      "66/66 [==============================] - 3s 40ms/step - loss: 0.8006 - val_loss: 0.9021\n",
      "\n",
      "Epoch 00004: val_loss improved from 0.92367 to 0.90214, saving model to w0.h5\n",
      "Epoch 5/10\n",
      "66/66 [==============================] - 2s 37ms/step - loss: 0.7836 - val_loss: 0.8890\n",
      "\n",
      "Epoch 00005: val_loss improved from 0.90214 to 0.88901, saving model to w0.h5\n",
      "Epoch 6/10\n",
      "66/66 [==============================] - 2s 38ms/step - loss: 0.7685 - val_loss: 0.8789\n",
      "\n",
      "Epoch 00006: val_loss improved from 0.88901 to 0.87889, saving model to w0.h5\n",
      "Epoch 7/10\n",
      "66/66 [==============================] - 3s 38ms/step - loss: 0.7622 - val_loss: 0.8728\n",
      "\n",
      "Epoch 00007: val_loss improved from 0.87889 to 0.87281, saving model to w0.h5\n",
      "Epoch 8/10\n",
      "66/66 [==============================] - 3s 38ms/step - loss: 0.7545 - val_loss: 0.8681\n",
      "\n",
      "Epoch 00008: val_loss improved from 0.87281 to 0.86807, saving model to w0.h5\n",
      "Epoch 9/10\n",
      "66/66 [==============================] - 3s 38ms/step - loss: 0.7493 - val_loss: 0.8643\n",
      "\n",
      "Epoch 00009: val_loss improved from 0.86807 to 0.86428, saving model to w0.h5\n",
      "Epoch 10/10\n",
      "66/66 [==============================] - 2s 37ms/step - loss: 0.7423 - val_loss: 0.8629\n",
      "\n",
      "Epoch 00010: val_loss improved from 0.86428 to 0.86285, saving model to w0.h5\n",
      "10/10 [==============================] - 0s 14ms/step\n",
      "FOLD: 1\n",
      "Epoch 1/10\n",
      "66/66 [==============================] - 3s 46ms/step - loss: 1.4062 - val_loss: 0.8475\n",
      "\n",
      "Epoch 00001: val_loss improved from inf to 0.84754, saving model to w1.h5\n",
      "Epoch 2/10\n",
      "66/66 [==============================] - 2s 38ms/step - loss: 0.9466 - val_loss: 0.7748\n",
      "\n",
      "Epoch 00002: val_loss improved from 0.84754 to 0.77483, saving model to w1.h5\n",
      "Epoch 3/10\n",
      "66/66 [==============================] - 2s 38ms/step - loss: 0.8756 - val_loss: 0.7387\n",
      "\n",
      "Epoch 00003: val_loss improved from 0.77483 to 0.73870, saving model to w1.h5\n",
      "Epoch 4/10\n",
      "66/66 [==============================] - 3s 42ms/step - loss: 0.8380 - val_loss: 0.7148\n",
      "\n",
      "Epoch 00004: val_loss improved from 0.73870 to 0.71485, saving model to w1.h5\n",
      "Epoch 5/10\n",
      "66/66 [==============================] - 2s 38ms/step - loss: 0.8147 - val_loss: 0.7016\n",
      "\n",
      "Epoch 00005: val_loss improved from 0.71485 to 0.70159, saving model to w1.h5\n",
      "Epoch 6/10\n",
      "66/66 [==============================] - 2s 37ms/step - loss: 0.8033 - val_loss: 0.6926\n",
      "\n",
      "Epoch 00006: val_loss improved from 0.70159 to 0.69259, saving model to w1.h5\n",
      "Epoch 7/10\n",
      "66/66 [==============================] - 2s 37ms/step - loss: 0.7944 - val_loss: 0.6911\n",
      "\n",
      "Epoch 00007: val_loss improved from 0.69259 to 0.69111, saving model to w1.h5\n",
      "Epoch 8/10\n",
      "66/66 [==============================] - 2s 37ms/step - loss: 0.7930 - val_loss: 0.6844\n",
      "\n",
      "Epoch 00008: val_loss improved from 0.69111 to 0.68443, saving model to w1.h5\n",
      "Epoch 9/10\n",
      "66/66 [==============================] - 2s 37ms/step - loss: 0.7862 - val_loss: 0.6804\n",
      "\n",
      "Epoch 00009: val_loss improved from 0.68443 to 0.68039, saving model to w1.h5\n",
      "Epoch 10/10\n",
      "66/66 [==============================] - 2s 37ms/step - loss: 0.7810 - val_loss: 0.6793\n",
      "\n",
      "Epoch 00010: val_loss improved from 0.68039 to 0.67933, saving model to w1.h5\n",
      "10/10 [==============================] - 0s 13ms/step\n",
      "FOLD: 2\n",
      "Epoch 1/10\n",
      "66/66 [==============================] - 3s 44ms/step - loss: 1.4504 - val_loss: 0.9469\n",
      "\n",
      "Epoch 00001: val_loss improved from inf to 0.94689, saving model to w2.h5\n",
      "Epoch 2/10\n",
      "66/66 [==============================] - 2s 38ms/step - loss: 0.9377 - val_loss: 0.8590\n",
      "\n",
      "Epoch 00002: val_loss improved from 0.94689 to 0.85901, saving model to w2.h5\n",
      "Epoch 3/10\n",
      "66/66 [==============================] - 2s 37ms/step - loss: 0.8626 - val_loss: 0.8226\n",
      "\n",
      "Epoch 00003: val_loss improved from 0.85901 to 0.82261, saving model to w2.h5\n",
      "Epoch 4/10\n",
      "66/66 [==============================] - 2s 37ms/step - loss: 0.8249 - val_loss: 0.7998\n",
      "\n",
      "Epoch 00004: val_loss improved from 0.82261 to 0.79984, saving model to w2.h5\n",
      "Epoch 5/10\n",
      "66/66 [==============================] - 3s 41ms/step - loss: 0.8023 - val_loss: 0.7856\n",
      "\n",
      "Epoch 00005: val_loss improved from 0.79984 to 0.78562, saving model to w2.h5\n",
      "Epoch 6/10\n",
      "66/66 [==============================] - 2s 37ms/step - loss: 0.7905 - val_loss: 0.7757\n",
      "\n",
      "Epoch 00006: val_loss improved from 0.78562 to 0.77575, saving model to w2.h5\n",
      "Epoch 7/10\n",
      "66/66 [==============================] - 2s 38ms/step - loss: 0.7819 - val_loss: 0.7686\n",
      "\n",
      "Epoch 00007: val_loss improved from 0.77575 to 0.76856, saving model to w2.h5\n",
      "Epoch 8/10\n",
      "66/66 [==============================] - 2s 37ms/step - loss: 0.7769 - val_loss: 0.7629\n",
      "\n",
      "Epoch 00008: val_loss improved from 0.76856 to 0.76291, saving model to w2.h5\n",
      "Epoch 9/10\n",
      "66/66 [==============================] - 2s 36ms/step - loss: 0.7731 - val_loss: 0.7597\n",
      "\n",
      "Epoch 00009: val_loss improved from 0.76291 to 0.75974, saving model to w2.h5\n",
      "Epoch 10/10\n",
      "66/66 [==============================] - 2s 37ms/step - loss: 0.7713 - val_loss: 0.7565\n",
      "\n",
      "Epoch 00010: val_loss improved from 0.75974 to 0.75651, saving model to w2.h5\n",
      "10/10 [==============================] - 0s 13ms/step\n",
      "FOLD: 3\n",
      "Epoch 1/10\n",
      "66/66 [==============================] - 3s 44ms/step - loss: 1.3637 - val_loss: 1.1263\n",
      "\n",
      "Epoch 00001: val_loss improved from inf to 1.12635, saving model to w3.h5\n",
      "Epoch 2/10\n",
      "66/66 [==============================] - 2s 37ms/step - loss: 0.9109 - val_loss: 1.0021\n",
      "\n",
      "Epoch 00002: val_loss improved from 1.12635 to 1.00215, saving model to w3.h5\n",
      "Epoch 3/10\n",
      "66/66 [==============================] - 2s 37ms/step - loss: 0.8401 - val_loss: 0.9369\n",
      "\n",
      "Epoch 00003: val_loss improved from 1.00215 to 0.93694, saving model to w3.h5\n",
      "Epoch 4/10\n",
      "66/66 [==============================] - 3s 38ms/step - loss: 0.8045 - val_loss: 0.9108\n",
      "\n",
      "Epoch 00004: val_loss improved from 0.93694 to 0.91079, saving model to w3.h5\n",
      "Epoch 5/10\n",
      "66/66 [==============================] - 2s 37ms/step - loss: 0.7814 - val_loss: 0.8944\n",
      "\n",
      "Epoch 00005: val_loss improved from 0.91079 to 0.89443, saving model to w3.h5\n",
      "Epoch 6/10\n",
      "66/66 [==============================] - 3s 38ms/step - loss: 0.7679 - val_loss: 0.8836\n",
      "\n",
      "Epoch 00006: val_loss improved from 0.89443 to 0.88356, saving model to w3.h5\n",
      "Epoch 7/10\n",
      "66/66 [==============================] - 3s 40ms/step - loss: 0.7604 - val_loss: 0.8762\n",
      "\n",
      "Epoch 00007: val_loss improved from 0.88356 to 0.87615, saving model to w3.h5\n",
      "Epoch 8/10\n",
      "66/66 [==============================] - 2s 38ms/step - loss: 0.7544 - val_loss: 0.8704\n",
      "\n",
      "Epoch 00008: val_loss improved from 0.87615 to 0.87038, saving model to w3.h5\n",
      "Epoch 9/10\n",
      "66/66 [==============================] - 2s 36ms/step - loss: 0.7505 - val_loss: 0.8624\n",
      "\n",
      "Epoch 00009: val_loss improved from 0.87038 to 0.86241, saving model to w3.h5\n",
      "Epoch 10/10\n",
      "66/66 [==============================] - 2s 36ms/step - loss: 0.7448 - val_loss: 0.8641\n",
      "\n",
      "Epoch 00010: val_loss did not improve from 0.86241\n",
      "10/10 [==============================] - 0s 13ms/step\n",
      "FOLD: 4\n",
      "Epoch 1/10\n",
      "66/66 [==============================] - 4s 47ms/step - loss: 1.6162 - val_loss: 0.9154\n",
      "\n",
      "Epoch 00001: val_loss improved from inf to 0.91538, saving model to w4.h5\n",
      "Epoch 2/10\n",
      "66/66 [==============================] - 2s 37ms/step - loss: 0.9735 - val_loss: 0.8277\n",
      "\n",
      "Epoch 00002: val_loss improved from 0.91538 to 0.82770, saving model to w4.h5\n",
      "Epoch 3/10\n",
      "66/66 [==============================] - 2s 37ms/step - loss: 0.8947 - val_loss: 0.7857\n",
      "\n",
      "Epoch 00003: val_loss improved from 0.82770 to 0.78574, saving model to w4.h5\n",
      "Epoch 4/10\n",
      "66/66 [==============================] - 2s 38ms/step - loss: 0.8569 - val_loss: 0.7607\n",
      "\n",
      "Epoch 00004: val_loss improved from 0.78574 to 0.76070, saving model to w4.h5\n",
      "Epoch 5/10\n",
      "66/66 [==============================] - 2s 38ms/step - loss: 0.8380 - val_loss: 0.7424\n",
      "\n",
      "Epoch 00005: val_loss improved from 0.76070 to 0.74245, saving model to w4.h5\n",
      "Epoch 6/10\n",
      "66/66 [==============================] - 3s 38ms/step - loss: 0.8205 - val_loss: 0.7294\n",
      "\n",
      "Epoch 00006: val_loss improved from 0.74245 to 0.72935, saving model to w4.h5\n",
      "Epoch 7/10\n",
      "66/66 [==============================] - 2s 37ms/step - loss: 0.8086 - val_loss: 0.7168\n",
      "\n",
      "Epoch 00007: val_loss improved from 0.72935 to 0.71675, saving model to w4.h5\n",
      "Epoch 8/10\n",
      "66/66 [==============================] - 3s 42ms/step - loss: 0.8000 - val_loss: 0.7108\n",
      "\n",
      "Epoch 00008: val_loss improved from 0.71675 to 0.71080, saving model to w4.h5\n",
      "Epoch 9/10\n",
      "66/66 [==============================] - 2s 37ms/step - loss: 0.7948 - val_loss: 0.7074\n",
      "\n",
      "Epoch 00009: val_loss improved from 0.71080 to 0.70740, saving model to w4.h5\n",
      "Epoch 10/10\n",
      "66/66 [==============================] - 3s 38ms/step - loss: 0.7886 - val_loss: 0.7027\n",
      "\n",
      "Epoch 00010: val_loss improved from 0.70740 to 0.70266, saving model to w4.h5\n",
      "10/10 [==============================] - 0s 14ms/step\n"
     ]
    }
   ],
   "source": [
    "oof = np.zeros(y.shape)\n",
    "nets = []\n",
    "for idx in range(NFOLDS):\n",
    "    print(\"FOLD:\", idx)\n",
    "    tr_idx, val_idx = folds[idx]\n",
    "    ckpt = ModelCheckpoint(f\"w{idx}.h5\", monitor='val_loss', verbose=1, save_best_only=True,mode='min')\n",
    "    reduce_lr = ReduceLROnPlateau(monitor='val_loss', factor=0.2,patience=3, min_lr=0.0001)\n",
    "    es = EarlyStopping(monitor='val_loss', patience=5)\n",
    "    reg = make_model(X.shape[1])\n",
    "    reg.fit(X[tr_idx], y[tr_idx], epochs=10, batch_size=30_000, validation_data=(X[val_idx], y[val_idx]),\n",
    "            verbose=1, callbacks=[ckpt, reduce_lr, es])\n",
    "    reg.load_weights(f\"w{idx}.h5\")\n",
    "    oof[val_idx] = reg.predict(X[val_idx], batch_size=50_000, verbose=1)\n",
    "    nets.append(reg)\n",
    "    gc.collect()"
   ]
  },
  {
   "cell_type": "code",
   "execution_count": 22,
   "id": "strange-convert",
   "metadata": {
    "execution": {
     "iopub.execute_input": "2021-07-21T18:53:13.153022Z",
     "iopub.status.busy": "2021-07-21T18:53:13.152317Z",
     "iopub.status.idle": "2021-07-21T18:53:13.448445Z",
     "shell.execute_reply": "2021-07-21T18:53:13.449075Z",
     "shell.execute_reply.started": "2021-06-16T15:52:42.496247Z"
    },
    "papermill": {
     "duration": 0.878517,
     "end_time": "2021-07-21T18:53:13.449260",
     "exception": false,
     "start_time": "2021-07-21T18:53:12.570743",
     "status": "completed"
    },
    "tags": []
   },
   "outputs": [
    {
     "name": "stdout",
     "output_type": "stream",
     "text": [
      "mae: 0.7727517316297969\n",
      "mse: 3.9314386784209567\n"
     ]
    }
   ],
   "source": [
    "mae = mean_absolute_error(y, oof)\n",
    "mse = mean_squared_error(y, oof, squared=False)\n",
    "print(\"mae:\", mae)\n",
    "print(\"mse:\", mse)"
   ]
  },
  {
   "cell_type": "code",
   "execution_count": 23,
   "id": "nominated-algeria",
   "metadata": {
    "execution": {
     "iopub.execute_input": "2021-07-21T18:53:14.582685Z",
     "iopub.status.busy": "2021-07-21T18:53:14.581478Z",
     "iopub.status.idle": "2021-07-21T18:53:14.830020Z",
     "shell.execute_reply": "2021-07-21T18:53:14.829426Z",
     "shell.execute_reply.started": "2021-06-16T15:52:54.512397Z"
    },
    "papermill": {
     "duration": 0.816335,
     "end_time": "2021-07-21T18:53:14.830162",
     "exception": false,
     "start_time": "2021-07-21T18:53:14.013827",
     "status": "completed"
    },
    "tags": []
   },
   "outputs": [],
   "source": [
    "# Historical information to use in prediction time\n",
    "bound_dt = pd.to_datetime(\"2021-01-01\")\n",
    "LAST = tr.loc[tr.EvalDate>bound_dt].copy()"
   ]
  },
  {
   "cell_type": "code",
   "execution_count": 24,
   "id": "textile-partner",
   "metadata": {
    "execution": {
     "iopub.execute_input": "2021-07-21T18:53:16.022805Z",
     "iopub.status.busy": "2021-07-21T18:53:16.021655Z",
     "iopub.status.idle": "2021-07-21T18:53:16.062842Z",
     "shell.execute_reply": "2021-07-21T18:53:16.063365Z",
     "shell.execute_reply.started": "2021-06-16T15:52:55.65156Z"
    },
    "papermill": {
     "duration": 0.674358,
     "end_time": "2021-07-21T18:53:16.063550",
     "exception": false,
     "start_time": "2021-07-21T18:53:15.389192",
     "status": "completed"
    },
    "tags": []
   },
   "outputs": [],
   "source": [
    "LAST_MED_DF = MED_DF.loc[MED_DF.EvalYear==2021].copy()\n",
    "LAST_MED_DF.drop(\"EvalYear\", axis=1, inplace=True)\n",
    "del tr"
   ]
  },
  {
   "cell_type": "code",
   "execution_count": 25,
   "id": "varying-cardiff",
   "metadata": {
    "execution": {
     "iopub.execute_input": "2021-07-21T18:53:17.196941Z",
     "iopub.status.busy": "2021-07-21T18:53:17.195952Z",
     "iopub.status.idle": "2021-07-21T18:53:17.200626Z",
     "shell.execute_reply": "2021-07-21T18:53:17.200126Z",
     "shell.execute_reply.started": "2021-06-16T15:53:01.486326Z"
    },
    "papermill": {
     "duration": 0.573221,
     "end_time": "2021-07-21T18:53:17.200775",
     "exception": false,
     "start_time": "2021-07-21T18:53:16.627554",
     "status": "completed"
    },
    "tags": []
   },
   "outputs": [
    {
     "data": {
      "text/plain": [
       "((245259, 91), (2061, 5), (8244, 6))"
      ]
     },
     "execution_count": 25,
     "metadata": {},
     "output_type": "execute_result"
    }
   ],
   "source": [
    "LAST.shape, LAST_MED_DF.shape, MED_DF.shape"
   ]
  },
  {
   "cell_type": "code",
   "execution_count": 26,
   "id": "controlled-guard",
   "metadata": {
    "execution": {
     "iopub.execute_input": "2021-07-21T18:53:18.337485Z",
     "iopub.status.busy": "2021-07-21T18:53:18.336766Z",
     "iopub.status.idle": "2021-07-21T18:53:25.566533Z",
     "shell.execute_reply": "2021-07-21T18:53:25.565793Z",
     "shell.execute_reply.started": "2021-06-16T15:53:35.172425Z"
    },
    "papermill": {
     "duration": 7.80096,
     "end_time": "2021-07-21T18:53:25.566680",
     "exception": false,
     "start_time": "2021-07-21T18:53:17.765720",
     "status": "completed"
    },
    "tags": []
   },
   "outputs": [
    {
     "name": "stdout",
     "output_type": "stream",
     "text": [
      "This version of the API is not optimized and should not be used to estimate the runtime of your code on the hidden test set.\n"
     ]
    }
   ],
   "source": [
    "import mlb\n",
    "FE = []; SUB = [];\n",
    "env = mlb.make_env() # initialize the environment\n",
    "iter_test = env.iter_test() # iterator which loops over each date in test set\n",
    "\n",
    "for (test_df, sub) in iter_test:\n",
    "    # Features computation at Evaluation Date\n",
    "    sub = sub.reset_index()\n",
    "    sub_fe, eval_dt = test_lag(sub)\n",
    "    sub_fe = sub_fe.merge(LAST_MED_DF, on=\"playerId\", how=\"left\")\n",
    "    sub_fe = sub_fe.fillna(0.)\n",
    "    \n",
    "    _preds = 0.\n",
    "    for reg in nets:\n",
    "        _preds += reg.predict(sub_fe[FECOLS + MEDCOLS]) / NFOLDS\n",
    "    sub_fe[TGTCOLS] = np.clip(_preds, 0, 100)\n",
    "    sub.drop([\"date\"]+TGTCOLS, axis=1, inplace=True)\n",
    "    sub = sub.merge(sub_fe[[\"playerId\"]+TGTCOLS], on=\"playerId\", how=\"left\")\n",
    "    sub.drop(\"playerId\", axis=1, inplace=True)\n",
    "    sub = sub.fillna(0.)\n",
    "    # Submit\n",
    "    env.predict(sub)\n",
    "    # Update Available information\n",
    "    sub_fe[\"EvalDate\"] = eval_dt\n",
    "    #sub_fe.drop(MEDCOLS, axis=1, inplace=True)\n",
    "    LAST = LAST.append(sub_fe)\n",
    "    LAST = LAST.drop_duplicates(subset=[\"EvalDate\",\"playerId\"], keep=\"last\")"
   ]
  }
 ],
 "metadata": {
  "kernelspec": {
   "display_name": "Python 3",
   "language": "python",
   "name": "python3"
  },
  "language_info": {
   "codemirror_mode": {
    "name": "ipython",
    "version": 3
   },
   "file_extension": ".py",
   "mimetype": "text/x-python",
   "name": "python",
   "nbconvert_exporter": "python",
   "pygments_lexer": "ipython3",
   "version": "3.7.10"
  },
  "papermill": {
   "default_parameters": {},
   "duration": 258.065514,
   "end_time": "2021-07-21T18:53:27.579941",
   "environment_variables": {},
   "exception": null,
   "input_path": "__notebook__.ipynb",
   "output_path": "__notebook__.ipynb",
   "parameters": {},
   "start_time": "2021-07-21T18:49:09.514427",
   "version": "2.3.3"
  }
 },
 "nbformat": 4,
 "nbformat_minor": 5
}
